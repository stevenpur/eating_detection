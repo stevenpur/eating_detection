{
 "cells": [
  {
   "cell_type": "markdown",
   "metadata": {},
   "source": [
    "**Objective**: Exploring methods for building a model for identifying eating activity in Capture24"
   ]
  },
  {
   "cell_type": "code",
   "execution_count": 66,
   "metadata": {},
   "outputs": [],
   "source": [
    "import os\n",
    "import numpy as np\n",
    "import pandas as pd\n",
    "from glob import glob\n",
    "import scipy.stats as stats\n",
    "from imblearn.ensemble import BalancedRandomForestClassifier\n",
    "from sklearn import metrics\n",
    "from sklearn.linear_model import LogisticRegression\n",
    "from sklearn.preprocessing import StandardScaler\n",
    "from sklearn.pipeline import make_pipeline\n",
    "from joblib import Parallel, delayed\n",
    "import urllib\n",
    "import shutil\n",
    "from tqdm.auto import tqdm\n",
    "import utils  # helper functions -- check out utils.py\n",
    "import zipfile\n",
    "import re\n",
    "\n",
    "# For reproducibility\n",
    "np.random.seed(42)"
   ]
  },
  {
   "cell_type": "markdown",
   "metadata": {},
   "source": [
    "### Load data"
   ]
  },
  {
   "cell_type": "code",
   "execution_count": 5,
   "metadata": {},
   "outputs": [],
   "source": [
    "def load_all_and_make_windows(datafiles, N=999):\n",
    "\n",
    "    def worker(datafile):\n",
    "        X, Y, T = utils.make_windows(utils.load_data(datafile), winsec=30)\n",
    "        pid = os.path.basename(datafile).split(\".\")[0]  # participant ID\n",
    "        pid = np.asarray([pid] * len(X))\n",
    "        return X, Y, T, pid\n",
    "\n",
    "    results = Parallel(n_jobs=4)(\n",
    "        delayed(worker)(datafile) for datafile in tqdm(datafiles[:N])\n",
    "    )\n",
    "\n",
    "    X = np.concatenate([result[0] for result in results])\n",
    "    Y = np.concatenate([result[1] for result in results])\n",
    "    T = np.concatenate([result[2] for result in results])\n",
    "    pid = np.concatenate([result[3] for result in results])\n",
    "\n",
    "    return X, Y, T, pid"
   ]
  },
  {
   "cell_type": "code",
   "execution_count": 6,
   "metadata": {},
   "outputs": [
    {
     "data": {
      "application/vnd.jupyter.widget-view+json": {
       "model_id": "747163498d96400b8c953dc094bca5ca",
       "version_major": 2,
       "version_minor": 0
      },
      "text/plain": [
       "  0%|          | 0/151 [00:00<?, ?it/s]"
      ]
     },
     "metadata": {},
     "output_type": "display_data"
    }
   ],
   "source": [
    "# get all accelerometer data files\n",
    "\n",
    "datafiles = os.path.expanduser(\"~/capture24/accelerometer/P[0-9][0-9][0-9].csv.gz\")\n",
    "X, Y, T, pid = load_all_and_make_windows(glob(datafiles))\n",
    "\n",
    "# save the arrays for later\n",
    "outputpath = os.path.expanduser(\"~/eating_detect/data/\")\n",
    "os.makedirs(outputpath + \"processed_data/\", exist_ok=True)\n",
    "np.save(outputpath + \"processed_data/X.npy\", X)\n",
    "np.save(outputpath + \"processed_data/Y.npy\", Y)\n",
    "np.save(outputpath + \"processed_data/T.npy\", T)\n",
    "np.save(outputpath + \"processed_data/pid.npy\", pid)\n"
   ]
  },
  {
   "cell_type": "code",
   "execution_count": 71,
   "metadata": {},
   "outputs": [],
   "source": [
    "# Load processed files\n",
    "X = np.load(outputpath + 'processed_data/X.npy', mmap_mode='r')\n",
    "Y = np.load(outputpath + 'processed_data/Y.npy')\n",
    "T = np.load(outputpath + 'processed_data/T.npy')\n",
    "pid = np.load(outputpath + 'processed_data/pid.npy')\n"
   ]
  },
  {
   "cell_type": "code",
   "execution_count": 10,
   "metadata": {},
   "outputs": [
    {
     "data": {
      "application/vnd.jupyter.widget-view+json": {
       "model_id": "a635430a20cc4c539337a498000d0a58",
       "version_major": 2,
       "version_minor": 0
      },
      "text/plain": [
       "  0%|          | 0/312730 [00:00<?, ?it/s]"
      ]
     },
     "metadata": {},
     "output_type": "display_data"
    },
    {
     "name": "stdout",
     "output_type": "stream",
     "text": [
      "           xMean     yMean     zMean      xStd      yStd      zStd      mean  \\\n",
      "0      -0.472182 -0.534437  0.655677  0.006469  0.006348  0.003302  0.968795   \n",
      "1      -0.475536 -0.531443  0.656365  0.007745  0.004139  0.002418  0.969249   \n",
      "2      -0.477615 -0.530214  0.656677  0.007741  0.004491  0.003096  0.969811   \n",
      "3      -0.478286 -0.530208  0.656646  0.007620  0.004762  0.003020  0.970119   \n",
      "4      -0.477083 -0.530458  0.656750  0.007806  0.004137  0.003163  0.969732   \n",
      "...          ...       ...       ...       ...       ...       ...       ...   \n",
      "312725  0.108823  0.343010  0.813089  0.004272  0.003462  0.005327  0.889182   \n",
      "312726  0.109135  0.342750  0.813104  0.003862  0.003888  0.005163  0.889134   \n",
      "312727  0.108943  0.342651  0.813172  0.003960  0.004016  0.005083  0.889135   \n",
      "312728  0.109828  0.342396  0.812891  0.004674  0.005394  0.005798  0.888900   \n",
      "312729  0.109615  0.342552  0.813000  0.003904  0.004235  0.005030  0.889022   \n",
      "\n",
      "             std  \n",
      "0       0.004515  \n",
      "1       0.004409  \n",
      "2       0.004785  \n",
      "3       0.004637  \n",
      "4       0.004717  \n",
      "...          ...  \n",
      "312725  0.005115  \n",
      "312726  0.004963  \n",
      "312727  0.004929  \n",
      "312728  0.005549  \n",
      "312729  0.004952  \n",
      "\n",
      "[312730 rows x 8 columns]\n"
     ]
    }
   ],
   "source": [
    "def extract_features(xyz):\n",
    "    ''' Extract features. xyz is an array of shape (N,3) '''\n",
    "\n",
    "    feats = {}\n",
    "    feats['xMean'], feats['yMean'], feats['zMean'] = np.mean(xyz, axis=0)\n",
    "    feats['xStd'], feats['yStd'], feats['zStd'] = np.std(xyz, axis=0)\n",
    "    v = np.linalg.norm(xyz, axis=1)  # magnitude stream\n",
    "    feats['mean'], feats['std'] = np.mean(v), np.std(v)\n",
    "\n",
    "    return feats\n",
    "\n",
    "# Extract features\n",
    "X_feats = pd.DataFrame(Parallel(n_jobs=4)(delayed(extract_features)(x) for x in tqdm(X)))\n",
    "X_feats.to_pickle(outputpath + 'processed_data/X_feats.pkl')\n",
    "print(X_feats)\n"
   ]
  },
  {
   "cell_type": "code",
   "execution_count": 72,
   "metadata": {},
   "outputs": [],
   "source": [
    "# As before, let's map the text annotations to simplified labels\n",
    "eat_indices = np.array([index for index, element in enumerate(Y) if 'eat' in element])\n",
    "\n",
    "# Let's load the dictionary that maps the text labels to simplified labels\n",
    "# and apply it to the Y array\n",
    "\n",
    "# Load the dictionary\n",
    "label_dict_path = os.path.expanduser(\"~/capture24/annotation-label-dictionary.csv\")\n",
    "anno_label_dict = pd.read_csv(\n",
    "    label_dict_path,\n",
    "    index_col='annotation', \n",
    "    dtype='string'\n",
    ")\n",
    "\n",
    "# remove the last bit of string after the last \";\" in Y\n",
    "#pattern = \";MET\\ .*\"\n",
    "#Y = np.array([re.sub(pattern, '', element) for element in Y])\n",
    "\n",
    "\n",
    "# apply the dictionary to simplify the labels\n",
    "Y = np.array([anno_label_dict.loc[y, 'label:Willetts2018'] for y in Y])\n"
   ]
  },
  {
   "cell_type": "code",
   "execution_count": 75,
   "metadata": {},
   "outputs": [
    {
     "data": {
      "text/plain": [
       "array(['bicycling', 'mixed', 'sit-stand', 'sleep', 'vehicle', 'walking'],\n",
       "      dtype='<U9')"
      ]
     },
     "execution_count": 75,
     "metadata": {},
     "output_type": "execute_result"
    }
   ],
   "source": []
  },
  {
   "cell_type": "code",
   "execution_count": 70,
   "metadata": {},
   "outputs": [
    {
     "data": {
      "text/plain": [
       "Index([], dtype='string', name='annotation')"
      ]
     },
     "execution_count": 70,
     "metadata": {},
     "output_type": "execute_result"
    }
   ],
   "source": [
    "# check if 'home activity' is part the string in any of the index of the dictionary\n",
    "is_hc = np.array(['mixed-activity' in anno_label_dict.index[i] for i in range(len(anno_label_dict))])\n",
    "# get the row index label based on the boolean array\n",
    "hc_label = anno_label_dict.index[is_hc]\n",
    "hc_label"
   ]
  },
  {
   "cell_type": "code",
   "execution_count": 46,
   "metadata": {},
   "outputs": [
    {
     "data": {
      "text/plain": [
       "array([False, False,  True, False,  True,  True, False,  True,  True,\n",
       "        True,  True,  True,  True, False, False,  True,  True, False,\n",
       "       False, False, False, False,  True,  True, False, False,  True,\n",
       "       False,  True,  True, False, False,  True,  True, False, False,\n",
       "       False, False,  True, False, False, False, False,  True, False,\n",
       "        True, False, False, False,  True, False,  True, False,  True,\n",
       "        True,  True,  True, False,  True, False, False,  True,  True,\n",
       "       False, False,  True,  True,  True, False, False,  True, False,\n",
       "        True, False, False, False,  True,  True,  True,  True, False,\n",
       "       False, False, False, False, False,  True, False, False,  True,\n",
       "        True, False,  True, False,  True, False, False,  True, False,\n",
       "       False,  True, False, False, False, False, False,  True, False,\n",
       "       False,  True,  True,  True, False,  True,  True, False, False,\n",
       "       False,  True,  True,  True, False,  True, False, False, False,\n",
       "       False,  True, False,  True,  True, False,  True,  True, False,\n",
       "       False, False, False,  True,  True,  True,  True, False, False,\n",
       "       False, False, False, False,  True,  True, False,  True, False,\n",
       "       False, False, False, False, False,  True,  True, False, False,\n",
       "        True,  True,  True,  True, False, False, False, False,  True,\n",
       "       False,  True, False, False, False, False, False,  True, False,\n",
       "       False, False, False,  True,  True, False, False,  True,  True,\n",
       "       False,  True, False,  True, False, False, False, False, False,\n",
       "        True, False, False, False, False, False,  True,  True, False,\n",
       "       False, False,  True, False, False, False,  True, False, False])"
      ]
     },
     "execution_count": 46,
     "metadata": {},
     "output_type": "execute_result"
    }
   ],
   "source": [
    "is_hc"
   ]
  },
  {
   "cell_type": "code",
   "execution_count": 25,
   "metadata": {},
   "outputs": [
    {
     "name": "stdout",
     "output_type": "stream",
     "text": [
      "<class 'pandas.core.indexes.base.Index'>\n"
     ]
    }
   ],
   "source": []
  },
  {
   "cell_type": "code",
   "execution_count": 27,
   "metadata": {},
   "outputs": [
    {
     "data": {
      "text/html": [
       "<div>\n",
       "<style scoped>\n",
       "    .dataframe tbody tr th:only-of-type {\n",
       "        vertical-align: middle;\n",
       "    }\n",
       "\n",
       "    .dataframe tbody tr th {\n",
       "        vertical-align: top;\n",
       "    }\n",
       "\n",
       "    .dataframe thead th {\n",
       "        text-align: right;\n",
       "    }\n",
       "</style>\n",
       "<table border=\"1\" class=\"dataframe\">\n",
       "  <thead>\n",
       "    <tr style=\"text-align: right;\">\n",
       "      <th></th>\n",
       "      <th>x</th>\n",
       "      <th>y</th>\n",
       "      <th>z</th>\n",
       "      <th>temperature</th>\n",
       "      <th>light</th>\n",
       "      <th>annotation</th>\n",
       "    </tr>\n",
       "    <tr>\n",
       "      <th>time</th>\n",
       "      <th></th>\n",
       "      <th></th>\n",
       "      <th></th>\n",
       "      <th></th>\n",
       "      <th></th>\n",
       "      <th></th>\n",
       "    </tr>\n",
       "  </thead>\n",
       "  <tbody>\n",
       "    <tr>\n",
       "      <th>2014-10-11 02:30:00+00:00</th>\n",
       "      <td>0.90625</td>\n",
       "      <td>-0.156250</td>\n",
       "      <td>0.3125</td>\n",
       "      <td>23.75</td>\n",
       "      <td>3.417625</td>\n",
       "      <td>7030 sleeping;MET 0.95</td>\n",
       "    </tr>\n",
       "    <tr>\n",
       "      <th>2014-10-11 02:30:00.010000+00:00</th>\n",
       "      <td>0.90625</td>\n",
       "      <td>-0.156250</td>\n",
       "      <td>0.3125</td>\n",
       "      <td>23.75</td>\n",
       "      <td>3.417625</td>\n",
       "      <td>7030 sleeping;MET 0.95</td>\n",
       "    </tr>\n",
       "    <tr>\n",
       "      <th>2014-10-11 02:30:00.020000+00:00</th>\n",
       "      <td>0.90625</td>\n",
       "      <td>-0.171875</td>\n",
       "      <td>0.3125</td>\n",
       "      <td>23.75</td>\n",
       "      <td>3.417625</td>\n",
       "      <td>7030 sleeping;MET 0.95</td>\n",
       "    </tr>\n",
       "    <tr>\n",
       "      <th>2014-10-11 02:30:00.030000+00:00</th>\n",
       "      <td>0.90625</td>\n",
       "      <td>-0.156250</td>\n",
       "      <td>0.3125</td>\n",
       "      <td>23.75</td>\n",
       "      <td>3.417625</td>\n",
       "      <td>7030 sleeping;MET 0.95</td>\n",
       "    </tr>\n",
       "    <tr>\n",
       "      <th>2014-10-11 02:30:00.040000+00:00</th>\n",
       "      <td>0.90625</td>\n",
       "      <td>-0.156250</td>\n",
       "      <td>0.3125</td>\n",
       "      <td>23.75</td>\n",
       "      <td>3.417625</td>\n",
       "      <td>7030 sleeping;MET 0.95</td>\n",
       "    </tr>\n",
       "  </tbody>\n",
       "</table>\n",
       "</div>"
      ],
      "text/plain": [
       "                                        x         y       z  temperature  \\\n",
       "time                                                                       \n",
       "2014-10-11 02:30:00+00:00         0.90625 -0.156250  0.3125        23.75   \n",
       "2014-10-11 02:30:00.010000+00:00  0.90625 -0.156250  0.3125        23.75   \n",
       "2014-10-11 02:30:00.020000+00:00  0.90625 -0.171875  0.3125        23.75   \n",
       "2014-10-11 02:30:00.030000+00:00  0.90625 -0.156250  0.3125        23.75   \n",
       "2014-10-11 02:30:00.040000+00:00  0.90625 -0.156250  0.3125        23.75   \n",
       "\n",
       "                                     light              annotation  \n",
       "time                                                                \n",
       "2014-10-11 02:30:00+00:00         3.417625  7030 sleeping;MET 0.95  \n",
       "2014-10-11 02:30:00.010000+00:00  3.417625  7030 sleeping;MET 0.95  \n",
       "2014-10-11 02:30:00.020000+00:00  3.417625  7030 sleeping;MET 0.95  \n",
       "2014-10-11 02:30:00.030000+00:00  3.417625  7030 sleeping;MET 0.95  \n",
       "2014-10-11 02:30:00.040000+00:00  3.417625  7030 sleeping;MET 0.95  "
      ]
     },
     "execution_count": 27,
     "metadata": {},
     "output_type": "execute_result"
    }
   ],
   "source": [
    "\n",
    "data.head()"
   ]
  },
  {
   "cell_type": "markdown",
   "metadata": {},
   "source": []
  }
 ],
 "metadata": {
  "kernelspec": {
   "display_name": "base",
   "language": "python",
   "name": "python3"
  },
  "language_info": {
   "codemirror_mode": {
    "name": "ipython",
    "version": 3
   },
   "file_extension": ".py",
   "mimetype": "text/x-python",
   "name": "python",
   "nbconvert_exporter": "python",
   "pygments_lexer": "ipython3",
   "version": "3.11.5"
  }
 },
 "nbformat": 4,
 "nbformat_minor": 2
}
